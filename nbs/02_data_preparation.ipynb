{
 "cells": [
  {
   "cell_type": "markdown",
   "id": "guilty-furniture",
   "metadata": {},
   "source": [
    "### Cleaning the data"
   ]
  },
  {
   "cell_type": "code",
   "execution_count": 136,
   "id": "northern-nirvana",
   "metadata": {},
   "outputs": [],
   "source": [
    "import re\n",
    "import string\n",
    "import pandas as pd"
   ]
  },
  {
   "cell_type": "code",
   "execution_count": 137,
   "id": "sunrise-height",
   "metadata": {},
   "outputs": [
    {
     "data": {
      "text/plain": [
       "((10, 2), (19, 2))"
      ]
     },
     "execution_count": 137,
     "metadata": {},
     "output_type": "execute_result"
    }
   ],
   "source": [
    "# Read data\n",
    "left = pd.read_pickle(\"../data/left.pkl\")\n",
    "right = pd.read_pickle(\"../data/right.pkl\")\n",
    "left.shape, right.shape"
   ]
  },
  {
   "cell_type": "code",
   "execution_count": 138,
   "id": "discrete-extension",
   "metadata": {},
   "outputs": [],
   "source": [
    "def clean_text_round1(text):\n",
    "    text = text.lower()\n",
    "    text = re.sub('<[^>]*>', '', text)\n",
    "    text = re.sub('\\t', '', text)\n",
    "    text = re.sub('\\([^\\)]*\\)', '', text)\n",
    "    return text"
   ]
  },
  {
   "cell_type": "code",
   "execution_count": 139,
   "id": "sunrise-enhancement",
   "metadata": {},
   "outputs": [],
   "source": [
    "round1 = lambda x: clean_text_round1(x)\n",
    "left.content = left.content.apply(round1)\n",
    "right.content = right.content.apply(round1)"
   ]
  },
  {
   "cell_type": "code",
   "execution_count": 142,
   "id": "dried-checkout",
   "metadata": {},
   "outputs": [],
   "source": [
    "def clean_text_round2(text):\n",
    "    '''Make text lowercase, remove text in square brackets, remove punctuation and remove words containing numbers.'''\n",
    "\n",
    "    text = re.sub('\\[.*?\\]', '', text)\n",
    "    text = re.sub('[%s]' % re.escape(string.punctuation), '', text)\n",
    "    text = re.sub('\\w*\\d\\w*', '', text)\n",
    "    text = re.sub('\\\\xa0', '', text)\n",
    "    text = re.sub('\\n', '', text)\n",
    "    text = re.sub('\\“', '', text)\n",
    "    text = re.sub('\\”', '', text)\n",
    "    \n",
    "    return text\n",
    "\n",
    "round2 = lambda x: clean_text_round2(x)"
   ]
  },
  {
   "cell_type": "code",
   "execution_count": 143,
   "id": "substantial-tooth",
   "metadata": {},
   "outputs": [],
   "source": [
    "left.content = left.content.apply(round2)\n",
    "right.content = right.content.apply(round2)"
   ]
  },
  {
   "cell_type": "markdown",
   "id": "dependent-catering",
   "metadata": {},
   "source": [
    "##### Combine text together"
   ]
  },
  {
   "cell_type": "code",
   "execution_count": 144,
   "id": "hidden-employee",
   "metadata": {},
   "outputs": [],
   "source": [
    "def combine_text(list_of_text):\n",
    "    '''Takes a list of text and combines them into one large chunk of text.'''\n",
    "    combined_text = ' '.join(list_of_text)\n",
    "    return combined_text"
   ]
  },
  {
   "cell_type": "code",
   "execution_count": 145,
   "id": "seventh-ghana",
   "metadata": {},
   "outputs": [],
   "source": [
    "data = [combine_text(left.content.values), \n",
    "        combine_text(right.content.values)]"
   ]
  },
  {
   "cell_type": "code",
   "execution_count": 146,
   "id": "micro-texture",
   "metadata": {},
   "outputs": [
    {
     "data": {
      "text/html": [
       "<div>\n",
       "<style scoped>\n",
       "    .dataframe tbody tr th:only-of-type {\n",
       "        vertical-align: middle;\n",
       "    }\n",
       "\n",
       "    .dataframe tbody tr th {\n",
       "        vertical-align: top;\n",
       "    }\n",
       "\n",
       "    .dataframe thead th {\n",
       "        text-align: right;\n",
       "    }\n",
       "</style>\n",
       "<table border=\"1\" class=\"dataframe\">\n",
       "  <thead>\n",
       "    <tr style=\"text-align: right;\">\n",
       "      <th></th>\n",
       "      <th>content</th>\n",
       "    </tr>\n",
       "  </thead>\n",
       "  <tbody>\n",
       "    <tr>\n",
       "      <th>left</th>\n",
       "      <td>hey we’ve got our first political sex scandal ...</td>\n",
       "    </tr>\n",
       "    <tr>\n",
       "      <th>right</th>\n",
       "      <td>her names nicolle and shes quite a troll nicol...</td>\n",
       "    </tr>\n",
       "  </tbody>\n",
       "</table>\n",
       "</div>"
      ],
      "text/plain": [
       "                                                 content\n",
       "left   hey we’ve got our first political sex scandal ...\n",
       "right  her names nicolle and shes quite a troll nicol..."
      ]
     },
     "execution_count": 146,
     "metadata": {},
     "output_type": "execute_result"
    }
   ],
   "source": [
    "data = pd.DataFrame(data, columns=[\"content\"], index=[\"left\",\"right\"])\n",
    "data"
   ]
  },
  {
   "cell_type": "code",
   "execution_count": 147,
   "id": "selective-montana",
   "metadata": {},
   "outputs": [
    {
     "data": {
      "text/html": [
       "<div>\n",
       "<style scoped>\n",
       "    .dataframe tbody tr th:only-of-type {\n",
       "        vertical-align: middle;\n",
       "    }\n",
       "\n",
       "    .dataframe tbody tr th {\n",
       "        vertical-align: top;\n",
       "    }\n",
       "\n",
       "    .dataframe thead th {\n",
       "        text-align: right;\n",
       "    }\n",
       "</style>\n",
       "<table border=\"1\" class=\"dataframe\">\n",
       "  <thead>\n",
       "    <tr style=\"text-align: right;\">\n",
       "      <th></th>\n",
       "      <th>content</th>\n",
       "      <th>wing</th>\n",
       "    </tr>\n",
       "  </thead>\n",
       "  <tbody>\n",
       "    <tr>\n",
       "      <th>left</th>\n",
       "      <td>hey we’ve got our first political sex scandal ...</td>\n",
       "      <td>left</td>\n",
       "    </tr>\n",
       "    <tr>\n",
       "      <th>right</th>\n",
       "      <td>her names nicolle and shes quite a troll nicol...</td>\n",
       "      <td>right</td>\n",
       "    </tr>\n",
       "  </tbody>\n",
       "</table>\n",
       "</div>"
      ],
      "text/plain": [
       "                                                 content   wing\n",
       "left   hey we’ve got our first political sex scandal ...   left\n",
       "right  her names nicolle and shes quite a troll nicol...  right"
      ]
     },
     "execution_count": 147,
     "metadata": {},
     "output_type": "execute_result"
    }
   ],
   "source": [
    "data[\"wing\"] = [\"left\", \"right\"]\n",
    "data"
   ]
  },
  {
   "cell_type": "code",
   "execution_count": 148,
   "id": "sitting-mystery",
   "metadata": {},
   "outputs": [],
   "source": [
    "# Save as corpus\n",
    "data.to_pickle(\"../data/corpus.pkl\")"
   ]
  },
  {
   "cell_type": "markdown",
   "id": "numeric-salmon",
   "metadata": {},
   "source": [
    "### Document-term matrix or Bags of words"
   ]
  },
  {
   "cell_type": "code",
   "execution_count": 149,
   "id": "lined-coupon",
   "metadata": {},
   "outputs": [],
   "source": [
    "from sklearn.feature_extraction.text import CountVectorizer\n",
    "import pickle"
   ]
  },
  {
   "cell_type": "code",
   "execution_count": 150,
   "id": "planned-sailing",
   "metadata": {},
   "outputs": [],
   "source": [
    "cv = CountVectorizer(stop_words='english')\n",
    "data_cv = cv.fit_transform(data.content)"
   ]
  },
  {
   "cell_type": "code",
   "execution_count": 157,
   "id": "pacific-sword",
   "metadata": {},
   "outputs": [
    {
     "data": {
      "text/html": [
       "<div>\n",
       "<style scoped>\n",
       "    .dataframe tbody tr th:only-of-type {\n",
       "        vertical-align: middle;\n",
       "    }\n",
       "\n",
       "    .dataframe tbody tr th {\n",
       "        vertical-align: top;\n",
       "    }\n",
       "\n",
       "    .dataframe thead th {\n",
       "        text-align: right;\n",
       "    }\n",
       "</style>\n",
       "<table border=\"1\" class=\"dataframe\">\n",
       "  <thead>\n",
       "    <tr style=\"text-align: right;\">\n",
       "      <th></th>\n",
       "      <th>aapi</th>\n",
       "      <th>aba</th>\n",
       "      <th>abandon</th>\n",
       "      <th>abandoned</th>\n",
       "      <th>abel</th>\n",
       "      <th>abest</th>\n",
       "      <th>abilities</th>\n",
       "      <th>ability</th>\n",
       "      <th>able</th>\n",
       "      <th>abortion</th>\n",
       "      <th>...</th>\n",
       "      <th>yorker</th>\n",
       "      <th>yorkers</th>\n",
       "      <th>youd</th>\n",
       "      <th>youll</th>\n",
       "      <th>young</th>\n",
       "      <th>youre</th>\n",
       "      <th>youve</th>\n",
       "      <th>zeal</th>\n",
       "      <th>zero</th>\n",
       "      <th>zucker</th>\n",
       "    </tr>\n",
       "  </thead>\n",
       "  <tbody>\n",
       "    <tr>\n",
       "      <th>left</th>\n",
       "      <td>0</td>\n",
       "      <td>1</td>\n",
       "      <td>1</td>\n",
       "      <td>0</td>\n",
       "      <td>1</td>\n",
       "      <td>0</td>\n",
       "      <td>0</td>\n",
       "      <td>2</td>\n",
       "      <td>2</td>\n",
       "      <td>0</td>\n",
       "      <td>...</td>\n",
       "      <td>0</td>\n",
       "      <td>0</td>\n",
       "      <td>0</td>\n",
       "      <td>0</td>\n",
       "      <td>3</td>\n",
       "      <td>0</td>\n",
       "      <td>0</td>\n",
       "      <td>0</td>\n",
       "      <td>0</td>\n",
       "      <td>0</td>\n",
       "    </tr>\n",
       "    <tr>\n",
       "      <th>right</th>\n",
       "      <td>2</td>\n",
       "      <td>0</td>\n",
       "      <td>0</td>\n",
       "      <td>1</td>\n",
       "      <td>0</td>\n",
       "      <td>1</td>\n",
       "      <td>1</td>\n",
       "      <td>0</td>\n",
       "      <td>3</td>\n",
       "      <td>10</td>\n",
       "      <td>...</td>\n",
       "      <td>1</td>\n",
       "      <td>3</td>\n",
       "      <td>1</td>\n",
       "      <td>4</td>\n",
       "      <td>6</td>\n",
       "      <td>2</td>\n",
       "      <td>2</td>\n",
       "      <td>1</td>\n",
       "      <td>4</td>\n",
       "      <td>1</td>\n",
       "    </tr>\n",
       "  </tbody>\n",
       "</table>\n",
       "<p>2 rows × 4827 columns</p>\n",
       "</div>"
      ],
      "text/plain": [
       "       aapi  aba  abandon  abandoned  abel  abest  abilities  ability  able  \\\n",
       "left      0    1        1          0     1      0          0        2     2   \n",
       "right     2    0        0          1     0      1          1        0     3   \n",
       "\n",
       "       abortion  ...  yorker  yorkers  youd  youll  young  youre  youve  zeal  \\\n",
       "left          0  ...       0        0     0      0      3      0      0     0   \n",
       "right        10  ...       1        3     1      4      6      2      2     1   \n",
       "\n",
       "       zero  zucker  \n",
       "left      0       0  \n",
       "right     4       1  \n",
       "\n",
       "[2 rows x 4827 columns]"
      ]
     },
     "execution_count": 157,
     "metadata": {},
     "output_type": "execute_result"
    }
   ],
   "source": [
    "data_dtm = pd.DataFrame(data_cv.toarray(),\n",
    "                        columns=cv.get_feature_names(),\n",
    "                        index=[\"left\", \"right\"])\n",
    "data_dtm"
   ]
  },
  {
   "cell_type": "code",
   "execution_count": 153,
   "id": "satellite-rainbow",
   "metadata": {},
   "outputs": [],
   "source": [
    "data_dtm.to_pickle(\"../data/docterm_matrix.pkl\")\n",
    "pickle.dump(cv, open(\"../data/cv.pkl\", \"wb\"))"
   ]
  },
  {
   "cell_type": "markdown",
   "id": "falling-patient",
   "metadata": {},
   "source": [
    "### Word vectors"
   ]
  },
  {
   "cell_type": "code",
   "execution_count": 159,
   "id": "referenced-lightning",
   "metadata": {},
   "outputs": [],
   "source": [
    "import spacy"
   ]
  },
  {
   "cell_type": "code",
   "execution_count": 160,
   "id": "authorized-musician",
   "metadata": {},
   "outputs": [],
   "source": [
    "nlp = spacy.load(\"en_core_web_md\")"
   ]
  },
  {
   "cell_type": "code",
   "execution_count": 167,
   "id": "frequent-interview",
   "metadata": {},
   "outputs": [],
   "source": [
    "right['wing'] = 'right'\n",
    "left['wing'] = 'left'\n",
    "data = pd.concat([right, left], ignore_index=True)\n",
    "data.shape"
   ]
  },
  {
   "cell_type": "code",
   "execution_count": 170,
   "id": "mediterranean-green",
   "metadata": {},
   "outputs": [],
   "source": [
    "train_x = data.content.values\n",
    "train_y = data.wing.values"
   ]
  },
  {
   "cell_type": "code",
   "execution_count": 182,
   "id": "designed-perth",
   "metadata": {},
   "outputs": [],
   "source": [
    "docs = [nlp(text) for text in train_x]\n",
    "train_x_vecs = [x.vector for x in docs]\n",
    "len(train_x_vecs)"
   ]
  },
  {
   "cell_type": "code",
   "execution_count": 184,
   "id": "controlled-carry",
   "metadata": {},
   "outputs": [],
   "source": [
    "# Train a SVM for classifying left/right wing\n",
    "from sklearn import svm"
   ]
  },
  {
   "cell_type": "code",
   "execution_count": 185,
   "id": "attached-aluminum",
   "metadata": {},
   "outputs": [
    {
     "data": {
      "text/plain": [
       "SVC(kernel='linear')"
      ]
     },
     "execution_count": 185,
     "metadata": {},
     "output_type": "execute_result"
    }
   ],
   "source": [
    "clf_svm = svm.SVC(kernel='linear')\n",
    "clf_svm.fit(train_x_vecs, train_y)"
   ]
  },
  {
   "cell_type": "code",
   "execution_count": 191,
   "id": "challenging-germany",
   "metadata": {},
   "outputs": [
    {
     "data": {
      "text/plain": [
       "array(['right', 'right', 'right', 'right'], dtype=object)"
      ]
     },
     "execution_count": 191,
     "metadata": {},
     "output_type": "execute_result"
    }
   ],
   "source": [
    "test_x = [\"I went to the bank and wrote a check\", \n",
    "          \"let me check that out\", \n",
    "          \"last week president biden introduced a trill\",\n",
    "          \"along with many others i have long argued that the reason so few police officers are ever charged in their killings of unarmed black people  is that our legal system has effectively rendered those killings legal this is the case regardless of how horrendous the killings are or how much evidence including video makes clear what took place the defense in the trial of derek chauvin in the death of george floyd raised this very concept wednesday when questioning sgt jody stiger a los angeles police department useofforce expert who was a witness for the prosecution eric nelson an attorney for chauvin asked if sergeant stiger had ever had anything to do with a training called awful but lawful or lawful but awful he said that he had nelson continued his questioning the general concept is that sometimes the use of force it looks really bad right and sometimes it may be so it may be caught on video right and it looks bad right sergeant stiger responds yes nelson then says but it is still lawful the officer concludes yes based on that department’s policies or based on that state’s law this concept seems on its face morally depraved the bar for actions and in this case use of lethal force isn’t propriety or decency but the likelihood of legal exposure and jeopardy but the very existence of awful but lawful training reminds us that this concept isn’t new as chuck wexler the executive director of the police executive research forum and j scott thomson the chief operating officer of holtec security international and former president of the forum wrote in the new york times in  just because the police can legally use deadly force doesn’t always mean they should and the goal is to prevent lawfulbutawful outcomes while increasing officer safety they explained that the legal standard used in police shootings allows prosecutors and grand juries to conclude that although an officer’s shooting of a suspect may be questionable it isn’t criminal they went on to trace the origins of the standard the standard came from a  supreme court decision graham v connor the justices ruled that an officer’s use of force must be ‘objectively reasonable’ but the court went on to caution that ‘police officers are often forced to make splitsecond judgments — in circumstances that are tense uncertain and rapidly evolving — about the amount of force that is necessary in a particular situation’ police officers operate in the field — and enter courtrooms if it ever comes to that — with a staggering amount of blue privilege a benefitofthedoubt shield of protection that it is incredibly difficult to penetrate this creates that bizarre legal phenomenon of faultless killings the taking of life without the taking of responsibility a cain and abel scenario in which blood cries out from the soil but in these cases no one is seriously punished the standard implies that officers must be allowed to make mistakes even deadly ones because their jobs are dangerous policing is one of the few dangerous professions in which people can be killed and written off as collateral damage this standard allows callous wanton behavior the reckless and willful taking of life any action can be excused as a reasonable response to fear as the american bar association pointed out in february of  the awful but lawful concept creates a high burden for prosecution of bad police actions the group was summarizing the sentiments of a panel of legal experts at an aba meeting one person on the panel ronald a norwood a defense lawyer in st louis who has served as counsel to the st louis metropolitan police department put it this way officials should not be held liable for bad guesses but these bad guesses are not benign in many cases they result in someone being killed as kalfani ture an assistant professor of criminal justice at quinnipiac university in connecticut and a former police officer in the atlanta metropolitan area told reporters in june about the killing by the police of rayshard brooks in atlanta would i have shot rayshard brooks my answer is no’’ but he continued it’s a questionable use of force but there are many officers who may find this a lawful use of force so it’s one of those things we call in law enforcement ‘lawful but awful’ meaning that the officer could have taken alternative action that did not result in the civilian’s death’’ deadly use of force by police officers is highly discretionary but these police officers are humans who bring to their jobs biases both conscious and subconscious where one person may be shown patience and leniency another will be rewarded with violence and harm and often all of it is legal we have a legal system that has shirked its judicial responsibility allowing for extrajudicial killings without consequence — curbside capital sentences in this system it is too often the case that police officers are judge jury and executioner the times is committed to publishing a diversity of letters to the editor we’d like to hear what you think about this or any of our articles here are some tips and here’s our email lettersnytimescom follow the new york times opinion section on facebook and twitter  and instagram\"]\n",
    "test_docs = [nlp(text) for text in test_x]\n",
    "test_x_word_vectors =  [x.vector for x in test_docs]\n",
    "\n",
    "clf_svm.predict(test_x_word_vectors)"
   ]
  },
  {
   "cell_type": "markdown",
   "id": "treated-kitty",
   "metadata": {},
   "source": [
    "### Stemming"
   ]
  },
  {
   "cell_type": "code",
   "execution_count": 192,
   "id": "removable-sympathy",
   "metadata": {},
   "outputs": [],
   "source": [
    "from nltk.tokenize import word_tokenize\n",
    "from nltk.stem import PorterStemmer"
   ]
  },
  {
   "cell_type": "code",
   "execution_count": 196,
   "id": "invalid-liability",
   "metadata": {},
   "outputs": [],
   "source": [
    "stemmer = PorterStemmer()\n",
    "words_left = word_tokenize(' '.join([s for s in left.content.values]))\n",
    "words_right = word_tokenize(' '.join([s for s in right.content.values]))"
   ]
  },
  {
   "cell_type": "code",
   "execution_count": 198,
   "id": "involved-triangle",
   "metadata": {},
   "outputs": [
    {
     "data": {
      "text/plain": [
       "(10626, 17791)"
      ]
     },
     "execution_count": 198,
     "metadata": {},
     "output_type": "execute_result"
    }
   ],
   "source": [
    "len(words_left), len(words_right)"
   ]
  },
  {
   "cell_type": "code",
   "execution_count": 200,
   "id": "productive-window",
   "metadata": {},
   "outputs": [],
   "source": [
    "stemmed_left = []\n",
    "for word in words_left:\n",
    "    stemmed_left.append(stemmer.stem(word))\n",
    "stemmed_left = \" \".join(stemmed_left)"
   ]
  },
  {
   "cell_type": "code",
   "execution_count": null,
   "id": "compliant-magnitude",
   "metadata": {},
   "outputs": [],
   "source": []
  }
 ],
 "metadata": {
  "kernelspec": {
   "display_name": "Python 3",
   "language": "python",
   "name": "python3"
  },
  "language_info": {
   "codemirror_mode": {
    "name": "ipython",
    "version": 3
   },
   "file_extension": ".py",
   "mimetype": "text/x-python",
   "name": "python",
   "nbconvert_exporter": "python",
   "pygments_lexer": "ipython3",
   "version": "3.7.10"
  }
 },
 "nbformat": 4,
 "nbformat_minor": 5
}
