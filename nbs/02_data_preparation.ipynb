{
 "cells": [
  {
   "cell_type": "markdown",
   "id": "collect-dimension",
   "metadata": {},
   "source": [
    "### Cleaning the data"
   ]
  },
  {
   "cell_type": "code",
   "execution_count": 2,
   "id": "french-andrews",
   "metadata": {},
   "outputs": [],
   "source": [
    "import pandas as pd"
   ]
  },
  {
   "cell_type": "code",
   "execution_count": 19,
   "id": "similar-messenger",
   "metadata": {},
   "outputs": [
    {
     "data": {
      "text/plain": [
       "((10, 2), (30, 2))"
      ]
     },
     "execution_count": 19,
     "metadata": {},
     "output_type": "execute_result"
    }
   ],
   "source": [
    "# Read data\n",
    "left = pd.read_pickle(\"../data/left.pkl\")\n",
    "right = pd.read_pickle(\"../data/right.pkl\")\n",
    "left.shape, right.shape"
   ]
  },
  {
   "cell_type": "code",
   "execution_count": 38,
   "id": "recorded-humanity",
   "metadata": {},
   "outputs": [],
   "source": [
    "# Apply a first round of text cleaning techniques\n",
    "import re\n",
    "import string\n",
    "\n",
    "def clean_text_round1(text):\n",
    "    '''Make text lowercase, remove text in square brackets, remove punctuation and remove words containing numbers.'''\n",
    "    text = text.lower()\n",
    "    text = re.sub('\\[.*?\\]', '', text)\n",
    "    text = re.sub('[%s]' % re.escape(string.punctuation), '', text)\n",
    "    text = re.sub('\\w*\\d\\w*', '', text)\n",
    "    text = re.sub('\\\\xa0', '', text)\n",
    "    text = re.sub('\\n', '', text)\n",
    "    text = re.sub('\\“', '', text)\n",
    "    text = re.sub('\\”', '', text)\n",
    "    \n",
    "    return text\n",
    "\n",
    "round1 = lambda x: clean_text_round1(x)"
   ]
  },
  {
   "cell_type": "code",
   "execution_count": 39,
   "id": "relevant-natural",
   "metadata": {},
   "outputs": [],
   "source": [
    "left.content = left.content.apply(round1)\n",
    "right.content = right.content.apply(round1)"
   ]
  },
  {
   "cell_type": "code",
   "execution_count": null,
   "id": "tracked-victory",
   "metadata": {},
   "outputs": [],
   "source": []
  },
  {
   "cell_type": "code",
   "execution_count": 40,
   "id": "environmental-newspaper",
   "metadata": {},
   "outputs": [],
   "source": [
    "def combine_text(list_of_text):\n",
    "    '''Takes a list of text and combines them into one large chunk of text.'''\n",
    "    combined_text = ' '.join(list_of_text)\n",
    "    return combined_text"
   ]
  },
  {
   "cell_type": "code",
   "execution_count": 45,
   "id": "integral-shakespeare",
   "metadata": {},
   "outputs": [],
   "source": [
    "data = [combine_text(left.content.values), \n",
    "        combine_text(right.content.values)]"
   ]
  },
  {
   "cell_type": "code",
   "execution_count": 49,
   "id": "egyptian-approval",
   "metadata": {},
   "outputs": [
    {
     "data": {
      "text/html": [
       "<div>\n",
       "<style scoped>\n",
       "    .dataframe tbody tr th:only-of-type {\n",
       "        vertical-align: middle;\n",
       "    }\n",
       "\n",
       "    .dataframe tbody tr th {\n",
       "        vertical-align: top;\n",
       "    }\n",
       "\n",
       "    .dataframe thead th {\n",
       "        text-align: right;\n",
       "    }\n",
       "</style>\n",
       "<table border=\"1\" class=\"dataframe\">\n",
       "  <thead>\n",
       "    <tr style=\"text-align: right;\">\n",
       "      <th></th>\n",
       "      <th>content</th>\n",
       "    </tr>\n",
       "  </thead>\n",
       "  <tbody>\n",
       "    <tr>\n",
       "      <th>left</th>\n",
       "      <td>trouble for the florida fanboy our legal syste...</td>\n",
       "    </tr>\n",
       "    <tr>\n",
       "      <th>right</th>\n",
       "      <td>tucker carlson tonight host tucker carlson unp...</td>\n",
       "    </tr>\n",
       "  </tbody>\n",
       "</table>\n",
       "</div>"
      ],
      "text/plain": [
       "                                                 content\n",
       "left   trouble for the florida fanboy our legal syste...\n",
       "right  tucker carlson tonight host tucker carlson unp..."
      ]
     },
     "execution_count": 49,
     "metadata": {},
     "output_type": "execute_result"
    }
   ],
   "source": [
    "data = pd.DataFrame(data, columns=[\"content\"], index=[\"left\",\"right\"])\n",
    "data"
   ]
  },
  {
   "cell_type": "code",
   "execution_count": 50,
   "id": "crucial-robertson",
   "metadata": {},
   "outputs": [
    {
     "data": {
      "text/html": [
       "<div>\n",
       "<style scoped>\n",
       "    .dataframe tbody tr th:only-of-type {\n",
       "        vertical-align: middle;\n",
       "    }\n",
       "\n",
       "    .dataframe tbody tr th {\n",
       "        vertical-align: top;\n",
       "    }\n",
       "\n",
       "    .dataframe thead th {\n",
       "        text-align: right;\n",
       "    }\n",
       "</style>\n",
       "<table border=\"1\" class=\"dataframe\">\n",
       "  <thead>\n",
       "    <tr style=\"text-align: right;\">\n",
       "      <th></th>\n",
       "      <th>content</th>\n",
       "      <th>wing</th>\n",
       "    </tr>\n",
       "  </thead>\n",
       "  <tbody>\n",
       "    <tr>\n",
       "      <th>left</th>\n",
       "      <td>trouble for the florida fanboy our legal syste...</td>\n",
       "      <td>left</td>\n",
       "    </tr>\n",
       "    <tr>\n",
       "      <th>right</th>\n",
       "      <td>tucker carlson tonight host tucker carlson unp...</td>\n",
       "      <td>right</td>\n",
       "    </tr>\n",
       "  </tbody>\n",
       "</table>\n",
       "</div>"
      ],
      "text/plain": [
       "                                                 content   wing\n",
       "left   trouble for the florida fanboy our legal syste...   left\n",
       "right  tucker carlson tonight host tucker carlson unp...  right"
      ]
     },
     "execution_count": 50,
     "metadata": {},
     "output_type": "execute_result"
    }
   ],
   "source": [
    "data[\"wing\"] = [\"left\", \"right\"]\n",
    "data"
   ]
  },
  {
   "cell_type": "code",
   "execution_count": 53,
   "id": "applicable-lotus",
   "metadata": {},
   "outputs": [],
   "source": [
    "# Save as corpus\n",
    "data.to_pickle(\"../data/corpus.pkl\")"
   ]
  },
  {
   "cell_type": "markdown",
   "id": "honey-function",
   "metadata": {},
   "source": [
    "### Document-term matrix"
   ]
  },
  {
   "cell_type": "code",
   "execution_count": 60,
   "id": "liable-ultimate",
   "metadata": {},
   "outputs": [],
   "source": [
    "from sklearn.feature_extraction.text import CountVectorizer\n",
    "import pickle"
   ]
  },
  {
   "cell_type": "code",
   "execution_count": 61,
   "id": "interpreted-archive",
   "metadata": {},
   "outputs": [],
   "source": [
    "cv = CountVectorizer(stop_words='english')\n",
    "data_cv = cv.fit_transform(data.content)"
   ]
  },
  {
   "cell_type": "code",
   "execution_count": 62,
   "id": "incredible-nothing",
   "metadata": {},
   "outputs": [
    {
     "data": {
      "text/html": [
       "<div>\n",
       "<style scoped>\n",
       "    .dataframe tbody tr th:only-of-type {\n",
       "        vertical-align: middle;\n",
       "    }\n",
       "\n",
       "    .dataframe tbody tr th {\n",
       "        vertical-align: top;\n",
       "    }\n",
       "\n",
       "    .dataframe thead th {\n",
       "        text-align: right;\n",
       "    }\n",
       "</style>\n",
       "<table border=\"1\" class=\"dataframe\">\n",
       "  <thead>\n",
       "    <tr style=\"text-align: right;\">\n",
       "      <th></th>\n",
       "      <th>abest</th>\n",
       "      <th>acosta</th>\n",
       "      <th>acting</th>\n",
       "      <th>administration</th>\n",
       "      <th>affects</th>\n",
       "      <th>ahmed</th>\n",
       "      <th>airlines</th>\n",
       "      <th>align</th>\n",
       "      <th>allows</th>\n",
       "      <th>ambitions</th>\n",
       "      <th>...</th>\n",
       "      <th>welloff</th>\n",
       "      <th>white</th>\n",
       "      <th>whoops</th>\n",
       "      <th>wilfred</th>\n",
       "      <th>willingness</th>\n",
       "      <th>woke</th>\n",
       "      <th>world</th>\n",
       "      <th>year</th>\n",
       "      <th>york</th>\n",
       "      <th>zero</th>\n",
       "    </tr>\n",
       "  </thead>\n",
       "  <tbody>\n",
       "    <tr>\n",
       "      <th>0</th>\n",
       "      <td>0</td>\n",
       "      <td>0</td>\n",
       "      <td>0</td>\n",
       "      <td>0</td>\n",
       "      <td>1</td>\n",
       "      <td>0</td>\n",
       "      <td>0</td>\n",
       "      <td>0</td>\n",
       "      <td>1</td>\n",
       "      <td>1</td>\n",
       "      <td>...</td>\n",
       "      <td>1</td>\n",
       "      <td>0</td>\n",
       "      <td>0</td>\n",
       "      <td>0</td>\n",
       "      <td>1</td>\n",
       "      <td>0</td>\n",
       "      <td>0</td>\n",
       "      <td>0</td>\n",
       "      <td>0</td>\n",
       "      <td>0</td>\n",
       "    </tr>\n",
       "    <tr>\n",
       "      <th>1</th>\n",
       "      <td>1</td>\n",
       "      <td>1</td>\n",
       "      <td>2</td>\n",
       "      <td>3</td>\n",
       "      <td>0</td>\n",
       "      <td>1</td>\n",
       "      <td>2</td>\n",
       "      <td>1</td>\n",
       "      <td>0</td>\n",
       "      <td>0</td>\n",
       "      <td>...</td>\n",
       "      <td>0</td>\n",
       "      <td>2</td>\n",
       "      <td>1</td>\n",
       "      <td>1</td>\n",
       "      <td>0</td>\n",
       "      <td>1</td>\n",
       "      <td>1</td>\n",
       "      <td>3</td>\n",
       "      <td>1</td>\n",
       "      <td>1</td>\n",
       "    </tr>\n",
       "  </tbody>\n",
       "</table>\n",
       "<p>2 rows × 392 columns</p>\n",
       "</div>"
      ],
      "text/plain": [
       "   abest  acosta  acting  administration  affects  ahmed  airlines  align  \\\n",
       "0      0       0       0               0        1      0         0      0   \n",
       "1      1       1       2               3        0      1         2      1   \n",
       "\n",
       "   allows  ambitions  ...  welloff  white  whoops  wilfred  willingness  woke  \\\n",
       "0       1          1  ...        1      0       0        0            1     0   \n",
       "1       0          0  ...        0      2       1        1            0     1   \n",
       "\n",
       "   world  year  york  zero  \n",
       "0      0     0     0     0  \n",
       "1      1     3     1     1  \n",
       "\n",
       "[2 rows x 392 columns]"
      ]
     },
     "execution_count": 62,
     "metadata": {},
     "output_type": "execute_result"
    }
   ],
   "source": [
    "data_dtm = pd.DataFrame(data_cv.toarray(),columns=cv.get_feature_names())\n",
    "data_dtm"
   ]
  },
  {
   "cell_type": "code",
   "execution_count": 63,
   "id": "effective-pillow",
   "metadata": {},
   "outputs": [],
   "source": [
    "data_dtm.to_pickle(\"../data/docterm_matrix.plk\")\n",
    "pickle.dump(cv, open(\"../data/cv.pkl\", \"wb\"))"
   ]
  },
  {
   "cell_type": "code",
   "execution_count": null,
   "id": "preceding-tattoo",
   "metadata": {},
   "outputs": [],
   "source": []
  }
 ],
 "metadata": {
  "kernelspec": {
   "display_name": "Python 3",
   "language": "python",
   "name": "python3"
  },
  "language_info": {
   "codemirror_mode": {
    "name": "ipython",
    "version": 3
   },
   "file_extension": ".py",
   "mimetype": "text/x-python",
   "name": "python",
   "nbconvert_exporter": "python",
   "pygments_lexer": "ipython3",
   "version": "3.7.10"
  }
 },
 "nbformat": 4,
 "nbformat_minor": 5
}
