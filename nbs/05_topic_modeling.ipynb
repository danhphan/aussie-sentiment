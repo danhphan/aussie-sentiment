{
 "cells": [
  {
   "cell_type": "markdown",
   "id": "stopped-liechtenstein",
   "metadata": {},
   "source": [
    "### Topic modeling"
   ]
  },
  {
   "cell_type": "code",
   "execution_count": 22,
   "id": "visible-skill",
   "metadata": {},
   "outputs": [],
   "source": [
    "import pandas as pd\n",
    "import pickle\n",
    "import scipy.sparse\n",
    "from gensim import matutils, models"
   ]
  },
  {
   "cell_type": "code",
   "execution_count": 3,
   "id": "spatial-reporter",
   "metadata": {},
   "outputs": [
    {
     "data": {
      "text/html": [
       "<div>\n",
       "<style scoped>\n",
       "    .dataframe tbody tr th:only-of-type {\n",
       "        vertical-align: middle;\n",
       "    }\n",
       "\n",
       "    .dataframe tbody tr th {\n",
       "        vertical-align: top;\n",
       "    }\n",
       "\n",
       "    .dataframe thead th {\n",
       "        text-align: right;\n",
       "    }\n",
       "</style>\n",
       "<table border=\"1\" class=\"dataframe\">\n",
       "  <thead>\n",
       "    <tr style=\"text-align: right;\">\n",
       "      <th></th>\n",
       "      <th>abest</th>\n",
       "      <th>acosta</th>\n",
       "      <th>acting</th>\n",
       "      <th>administration</th>\n",
       "      <th>affects</th>\n",
       "      <th>ahmed</th>\n",
       "      <th>airlines</th>\n",
       "      <th>align</th>\n",
       "      <th>allows</th>\n",
       "      <th>ambitions</th>\n",
       "      <th>...</th>\n",
       "      <th>welloff</th>\n",
       "      <th>white</th>\n",
       "      <th>whoops</th>\n",
       "      <th>wilfred</th>\n",
       "      <th>willingness</th>\n",
       "      <th>woke</th>\n",
       "      <th>world</th>\n",
       "      <th>year</th>\n",
       "      <th>york</th>\n",
       "      <th>zero</th>\n",
       "    </tr>\n",
       "  </thead>\n",
       "  <tbody>\n",
       "    <tr>\n",
       "      <th>left</th>\n",
       "      <td>0</td>\n",
       "      <td>0</td>\n",
       "      <td>0</td>\n",
       "      <td>0</td>\n",
       "      <td>1</td>\n",
       "      <td>0</td>\n",
       "      <td>0</td>\n",
       "      <td>0</td>\n",
       "      <td>1</td>\n",
       "      <td>1</td>\n",
       "      <td>...</td>\n",
       "      <td>1</td>\n",
       "      <td>0</td>\n",
       "      <td>0</td>\n",
       "      <td>0</td>\n",
       "      <td>1</td>\n",
       "      <td>0</td>\n",
       "      <td>0</td>\n",
       "      <td>0</td>\n",
       "      <td>0</td>\n",
       "      <td>0</td>\n",
       "    </tr>\n",
       "    <tr>\n",
       "      <th>right</th>\n",
       "      <td>1</td>\n",
       "      <td>1</td>\n",
       "      <td>2</td>\n",
       "      <td>3</td>\n",
       "      <td>0</td>\n",
       "      <td>1</td>\n",
       "      <td>2</td>\n",
       "      <td>1</td>\n",
       "      <td>0</td>\n",
       "      <td>0</td>\n",
       "      <td>...</td>\n",
       "      <td>0</td>\n",
       "      <td>2</td>\n",
       "      <td>1</td>\n",
       "      <td>1</td>\n",
       "      <td>0</td>\n",
       "      <td>1</td>\n",
       "      <td>1</td>\n",
       "      <td>3</td>\n",
       "      <td>1</td>\n",
       "      <td>1</td>\n",
       "    </tr>\n",
       "  </tbody>\n",
       "</table>\n",
       "<p>2 rows × 392 columns</p>\n",
       "</div>"
      ],
      "text/plain": [
       "       abest  acosta  acting  administration  affects  ahmed  airlines  align  \\\n",
       "left       0       0       0               0        1      0         0      0   \n",
       "right      1       1       2               3        0      1         2      1   \n",
       "\n",
       "       allows  ambitions  ...  welloff  white  whoops  wilfred  willingness  \\\n",
       "left        1          1  ...        1      0       0        0            1   \n",
       "right       0          0  ...        0      2       1        1            0   \n",
       "\n",
       "       woke  world  year  york  zero  \n",
       "left      0      0     0     0     0  \n",
       "right     1      1     3     1     1  \n",
       "\n",
       "[2 rows x 392 columns]"
      ]
     },
     "execution_count": 3,
     "metadata": {},
     "output_type": "execute_result"
    }
   ],
   "source": [
    "data_dtm = pd.read_pickle('../data/docterm_matrix.pkl')\n",
    "data_dtm"
   ]
  },
  {
   "cell_type": "markdown",
   "id": "shared-mineral",
   "metadata": {},
   "source": [
    "#### LDA with gensim"
   ]
  },
  {
   "cell_type": "code",
   "execution_count": 6,
   "id": "quiet-detection",
   "metadata": {},
   "outputs": [
    {
     "data": {
      "text/html": [
       "<div>\n",
       "<style scoped>\n",
       "    .dataframe tbody tr th:only-of-type {\n",
       "        vertical-align: middle;\n",
       "    }\n",
       "\n",
       "    .dataframe tbody tr th {\n",
       "        vertical-align: top;\n",
       "    }\n",
       "\n",
       "    .dataframe thead th {\n",
       "        text-align: right;\n",
       "    }\n",
       "</style>\n",
       "<table border=\"1\" class=\"dataframe\">\n",
       "  <thead>\n",
       "    <tr style=\"text-align: right;\">\n",
       "      <th></th>\n",
       "      <th>left</th>\n",
       "      <th>right</th>\n",
       "    </tr>\n",
       "  </thead>\n",
       "  <tbody>\n",
       "    <tr>\n",
       "      <th>abest</th>\n",
       "      <td>0</td>\n",
       "      <td>1</td>\n",
       "    </tr>\n",
       "    <tr>\n",
       "      <th>acosta</th>\n",
       "      <td>0</td>\n",
       "      <td>1</td>\n",
       "    </tr>\n",
       "    <tr>\n",
       "      <th>acting</th>\n",
       "      <td>0</td>\n",
       "      <td>2</td>\n",
       "    </tr>\n",
       "    <tr>\n",
       "      <th>administration</th>\n",
       "      <td>0</td>\n",
       "      <td>3</td>\n",
       "    </tr>\n",
       "    <tr>\n",
       "      <th>affects</th>\n",
       "      <td>1</td>\n",
       "      <td>0</td>\n",
       "    </tr>\n",
       "  </tbody>\n",
       "</table>\n",
       "</div>"
      ],
      "text/plain": [
       "                left  right\n",
       "abest              0      1\n",
       "acosta             0      1\n",
       "acting             0      2\n",
       "administration     0      3\n",
       "affects            1      0"
      ]
     },
     "execution_count": 6,
     "metadata": {},
     "output_type": "execute_result"
    }
   ],
   "source": [
    "data_dtm = data_dtm.transpose()\n",
    "data_dtm.head()"
   ]
  },
  {
   "cell_type": "code",
   "execution_count": 7,
   "id": "little-sapphire",
   "metadata": {},
   "outputs": [
    {
     "data": {
      "text/plain": [
       "<gensim.matutils.Sparse2Corpus at 0x7fa012685c90>"
      ]
     },
     "execution_count": 7,
     "metadata": {},
     "output_type": "execute_result"
    }
   ],
   "source": [
    "# dataframe --> sparse matrix --> gensim corpus\n",
    "sparse_counts = scipy.sparse.csr_matrix(data_dtm)\n",
    "corpus = matutils.Sparse2Corpus(sparse_counts)\n",
    "corpus"
   ]
  },
  {
   "cell_type": "code",
   "execution_count": 26,
   "id": "enclosed-ultimate",
   "metadata": {},
   "outputs": [],
   "source": [
    "# Gensim also requires dictionary of the all terms and their respective location in the term-document matrix\n",
    "cv = pickle.load(open(\"../data/cv.pkl\", \"rb\"))\n",
    "id2word = dict((v, k) for k, v in cv.vocabulary_.items())"
   ]
  },
  {
   "cell_type": "code",
   "execution_count": 27,
   "id": "operational-attachment",
   "metadata": {},
   "outputs": [
    {
     "data": {
      "text/plain": [
       "[(0,\n",
       "  '0.003*\"biden\" + 0.003*\"carlson\" + 0.003*\"tucker\" + 0.003*\"new\" + 0.003*\"fox\" + 0.003*\"news\" + 0.003*\"tonight\" + 0.003*\"discuss\" + 0.003*\"reacts\" + 0.003*\"united\"'),\n",
       " (1,\n",
       "  '0.012*\"biden\" + 0.011*\"carlson\" + 0.010*\"tucker\" + 0.008*\"new\" + 0.007*\"host\" + 0.007*\"angle\" + 0.007*\"ingraham\" + 0.007*\"reacts\" + 0.007*\"discuss\" + 0.007*\"tonight\"')]"
      ]
     },
     "execution_count": 27,
     "metadata": {},
     "output_type": "execute_result"
    }
   ],
   "source": [
    "# Now that we have the corpus (term-document matrix) and id2word (dictionary of location: term),\n",
    "# we need to specify two other parameters as well - the number of topics and the number of passes\n",
    "lda = models.LdaModel(corpus=corpus, id2word=id2word, num_topics=2, passes=10)\n",
    "lda.print_topics()"
   ]
  },
  {
   "cell_type": "code",
   "execution_count": null,
   "id": "handled-dynamics",
   "metadata": {},
   "outputs": [],
   "source": []
  }
 ],
 "metadata": {
  "kernelspec": {
   "display_name": "Python 3",
   "language": "python",
   "name": "python3"
  },
  "language_info": {
   "codemirror_mode": {
    "name": "ipython",
    "version": 3
   },
   "file_extension": ".py",
   "mimetype": "text/x-python",
   "name": "python",
   "nbconvert_exporter": "python",
   "pygments_lexer": "ipython3",
   "version": "3.7.10"
  }
 },
 "nbformat": 4,
 "nbformat_minor": 5
}
