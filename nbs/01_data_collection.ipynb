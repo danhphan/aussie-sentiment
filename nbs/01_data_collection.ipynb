{
 "cells": [
  {
   "cell_type": "code",
   "execution_count": 6,
   "id": "equipped-provider",
   "metadata": {},
   "outputs": [],
   "source": [
    "from parsel import Selector\n",
    "from urllib.request import urlopen\n",
    "import requests\n",
    "import pandas as pd\n",
    "import time"
   ]
  },
  {
   "cell_type": "markdown",
   "id": "biblical-antarctica",
   "metadata": {},
   "source": [
    "### Get data from Foxnews"
   ]
  },
  {
   "cell_type": "code",
   "execution_count": 77,
   "id": "motivated-market",
   "metadata": {},
   "outputs": [],
   "source": [
    "def get_selector(url):\n",
    "    text = requests.get(url).text\n",
    "    selector = Selector(text)\n",
    "    return selector\n",
    "\n",
    "def get_articles_fox(url):\n",
    "    selector = get_selector(url)\n",
    "    articles = []\n",
    "    rows = selector.xpath(\"//section/div[@class='content article-list']//article[@class='article']\")\n",
    "    for row in rows:\n",
    "        title = row.xpath(\"div/header/h4[@class='title']/a/text()\").get()\n",
    "        link = row.xpath(\"div/header/h4[@class='title']/a/@href\").get()\n",
    "        desc = row.xpath(\"div/div[@class='content']/p/a/text()\").get()\n",
    "        if desc is not None:\n",
    "            articles.append([title, desc])\n",
    "    return pd.DataFrame(articles, columns=[\"title\",\"content\"])        "
   ]
  },
  {
   "cell_type": "code",
   "execution_count": 78,
   "id": "inclusive-venice",
   "metadata": {},
   "outputs": [
    {
     "data": {
      "text/plain": [
       "(30, 2)"
      ]
     },
     "execution_count": 78,
     "metadata": {},
     "output_type": "execute_result"
    }
   ],
   "source": [
    "url = 'https://www.foxnews.com/opinion't\n",
    "articles = get_articles_fox(url)\n",
    "articles.shape"
   ]
  },
  {
   "cell_type": "code",
   "execution_count": 79,
   "id": "advisory-conversion",
   "metadata": {},
   "outputs": [],
   "source": [
    "articles.to_pickle(\"../data/right.pkl\")"
   ]
  },
  {
   "cell_type": "markdown",
   "id": "essential-renaissance",
   "metadata": {},
   "source": [
    "###  Get data from NY times"
   ]
  },
  {
   "cell_type": "code",
   "execution_count": 80,
   "id": "seven-destination",
   "metadata": {},
   "outputs": [],
   "source": [
    "def get_articles_nyt(url):\n",
    "    selector = get_selector(url)\n",
    "    articles = []\n",
    "    rows = selector.xpath(\"//div[@class='css-13mho3u']//li[@class='css-ye6x8s']\")\n",
    "    for row in rows:\n",
    "        title = row.xpath(\"div/div/a/h2/text()\").get()t\n",
    "        desc = row.xpath(\"div/div/a/p/text()\").get()\n",
    "        if desc is not None:\n",
    "            articles.append([title, desc])    \n",
    "    return pd.DataFrame(articles, columns=[\"title\",\"content\"])        "
   ]
  },
  {
   "cell_type": "code",
   "execution_count": 82,
   "id": "false-professional",
   "metadata": {},
   "outputs": [
    {
     "data": {
      "text/plain": [
       "(10, 2)"
      ]
     },
     "execution_count": 82,
     "metadata": {},
     "output_type": "execute_result"
    }
   ],
   "source": [
    "turl = 'https://www.nytimes.com/section/opinion'\n",
    "articles = get_articles_nyt(url)\n",
    "articles.shape"
   ]
  },
  {
   "cell_type": "code",
   "execution_count": 83,
   "id": "champion-lexington",
   "metadata": {},
   "outputs": [],
   "source": [
    "articles.to_pickle(\"../data/left.pkl\")"
   ]
  },
  {
   "cell_type": "code",
   "execution_count": 84,
   "id": "ranging-configuration",
   "metadata": {},
   "outputs": [
    {
     "data": {
      "text/html": [
       "<div>\n",
       "<style scoped>\n",
       "    .dataframe tbody tr th:only-of-type {\n",
       "        vertical-align: middle;\n",
       "    }\n",
       "\n",
       "    .dataframe tbody tr th {\n",
       "        vertical-align: top;\n",
       "    }\n",
       "\n",
       "    .dataframe thead th {\n",
       "        text-align: right;\n",
       "    }\n",
       "</style>\n",
       "<table border=\"1\" class=\"dataframe\">\n",
       "  <thead>\n",
       "    <tr style=\"text-align: right;\">\n",
       "      <th></th>\n",
       "      <th>title</th>\n",
       "      <th>content</th>\n",
       "    </tr>\n",
       "  </thead>\n",
       "  <tbody>\n",
       "    <tr>\n",
       "      <th>0</th>\n",
       "      <td>Here’s … Matt Gaetz</td>\n",
       "      <td>Trouble for the Florida fanboy.</td>\n",
       "    </tr>\n",
       "    <tr>\n",
       "      <th>1</th>\n",
       "      <td>‘Awful but Lawful’</td>\n",
       "      <td>Our legal system allows for extrajudicial kill...</td>\n",
       "    </tr>\n",
       "    <tr>\n",
       "      <th>2</th>\n",
       "      <td>Here’s How to Handle the ‘Genocide Olympics’ i...</td>\n",
       "      <td>The Olympiad gives us leverage. Let’s use it.</td>\n",
       "    </tr>\n",
       "    <tr>\n",
       "      <th>3</th>\n",
       "      <td>What’s It Like to Hug Again?</td>\n",
       "      <td>Share your videos of your first physical conta...</td>\n",
       "    </tr>\n",
       "    <tr>\n",
       "      <th>4</th>\n",
       "      <td>After Working at Google, I’ll Never Let Myself...</td>\n",
       "      <td>I learned the hard way that no publicly traded...</td>\n",
       "    </tr>\n",
       "    <tr>\n",
       "      <th>5</th>\n",
       "      <td>Jewish Prayer Books: Old, New and Relevant</td>\n",
       "      <td>A chance finding in a flea market, and new boo...</td>\n",
       "    </tr>\n",
       "    <tr>\n",
       "      <th>6</th>\n",
       "      <td>Why Immigrants Risk Their Lives Coming to the ...</td>\n",
       "      <td>Readers react to an Op-Ed that argued that the...</td>\n",
       "    </tr>\n",
       "    <tr>\n",
       "      <th>7</th>\n",
       "      <td>Biden Can Go Bigger and Not ‘Pay for It’ the O...</td>\n",
       "      <td>By focusing on how much revenue they hope to r...</td>\n",
       "    </tr>\n",
       "    <tr>\n",
       "      <th>8</th>\n",
       "      <td>Let’s Cut Our Ridiculous Defense Budget</td>\n",
       "      <td>President Biden wants to change the paradigm. ...</td>\n",
       "    </tr>\n",
       "    <tr>\n",
       "      <th>9</th>\n",
       "      <td>The Fear That Is Shaping American Politics</td>\n",
       "      <td>It affects everyone from Joe Manchin to Joe Bi...</td>\n",
       "    </tr>\n",
       "  </tbody>\n",
       "</table>\n",
       "</div>"
      ],
      "text/plain": [
       "                                               title  \\\n",
       "0                                Here’s … Matt Gaetz   \n",
       "1                                 ‘Awful but Lawful’   \n",
       "2  Here’s How to Handle the ‘Genocide Olympics’ i...   \n",
       "3                       What’s It Like to Hug Again?   \n",
       "4  After Working at Google, I’ll Never Let Myself...   \n",
       "5         Jewish Prayer Books: Old, New and Relevant   \n",
       "6  Why Immigrants Risk Their Lives Coming to the ...   \n",
       "7  Biden Can Go Bigger and Not ‘Pay for It’ the O...   \n",
       "8            Let’s Cut Our Ridiculous Defense Budget   \n",
       "9         The Fear That Is Shaping American Politics   \n",
       "\n",
       "                                             content  \n",
       "0                    Trouble for the Florida fanboy.  \n",
       "1  Our legal system allows for extrajudicial kill...  \n",
       "2      The Olympiad gives us leverage. Let’s use it.  \n",
       "3  Share your videos of your first physical conta...  \n",
       "4  I learned the hard way that no publicly traded...  \n",
       "5  A chance finding in a flea market, and new boo...  \n",
       "6  Readers react to an Op-Ed that argued that the...  \n",
       "7  By focusing on how much revenue they hope to r...  \n",
       "8  President Biden wants to change the paradigm. ...  \n",
       "9  It affects everyone from Joe Manchin to Joe Bi...  "
      ]
     },
     "execution_count": 84,
     "metadata": {},
     "output_type": "execute_result"
    }
   ],
   "source": [
    "articles"
   ]
  },
  {
   "cell_type": "code",
   "execution_count": null,
   "id": "voluntary-teacher",
   "metadata": {},
   "outputs": [],
   "source": []
  }
 ],
 "metadata": {
  "kernelspec": {
   "display_name": "Python 3",
   "language": "python",
   "name": "python3"
  },
  "language_info": {
   "codemirror_mode": {
    "name": "ipython",
    "version": 3
   },
   "file_extension": ".py",
   "mimetype": "text/x-python",
   "name": "python",
   "nbconvert_exporter": "python",
   "pygments_lexer": "ipython3",
   "version": "3.7.10"
  }
 },
 "nbformat": 4,
 "nbformat_minor": 5
}
