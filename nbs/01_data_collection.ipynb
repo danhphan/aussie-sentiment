{
 "cells": [
  {
   "cell_type": "code",
   "execution_count": 6,
   "id": "worse-opening",
   "metadata": {},
   "outputs": [],
   "source": [
    "from parsel import Selector\n",
    "from urllib.request import urlopen\n",
    "import requests\n",
    "import pandas as pd\n",
    "import time"
   ]
  },
  {
   "cell_type": "markdown",
   "id": "manufactured-practitioner",
   "metadata": {},
   "source": [
    "### Get data from Foxnews"
   ]
  },
  {
   "cell_type": "code",
   "execution_count": 110,
   "id": "quick-syndication",
   "metadata": {},
   "outputs": [],
   "source": [
    "def get_selector(url):\n",
    "    text = requests.get(url).text\n",
    "    selector = Selector(text)\n",
    "    return selector\n",
    "\n",
    "def get_afox_article(url):\n",
    "    selector = get_selector(url)\n",
    "    rows = selector.xpath(\"//div[@class='article-content']/div/p\")\n",
    "    content = ' '.join([row.get() for row in rows])\n",
    "    return content\n",
    "\n",
    "def get_fox_articles(url):\n",
    "    selector = get_selector(url)\n",
    "    articles = []\n",
    "    rows = selector.xpath(\"//section/div[@class='content article-list']//article[@class='article']\")\n",
    "    for row in rows:\n",
    "        title = row.xpath(\"div/header/h4[@class='title']/a/text()\").get()\n",
    "        desc = row.xpath(\"div/div[@class='content']/p/a/text()\").get()\n",
    "        \n",
    "        link = row.xpath(\"div/header/h4[@class='title']/a/@href\").get()        \n",
    "        if link.startswith(\"/opinion\"):\n",
    "            content = get_afox_article(\"https://www.foxnews.com\"+link)            \n",
    "            if content is not None:\n",
    "                articles.append([title, content])\n",
    "    return pd.DataFrame(articles, columns=[\"title\",\"content\"])        "
   ]
  },
  {
   "cell_type": "code",
   "execution_count": 111,
   "id": "published-tongue",
   "metadata": {},
   "outputs": [
    {
     "data": {
      "text/plain": [
       "(19, 2)"
      ]
     },
     "execution_count": 111,
     "metadata": {},
     "output_type": "execute_result"
    }
   ],
   "source": [
    "url = 'https://www.foxnews.com/opinion'\n",
    "articles = get_fox_articles(url)\n",
    "articles.shape"
   ]
  },
  {
   "cell_type": "code",
   "execution_count": 112,
   "id": "honey-parks",
   "metadata": {},
   "outputs": [],
   "source": [
    "articles.to_pickle(\"../data/right.pkl\")"
   ]
  },
  {
   "cell_type": "markdown",
   "id": "expected-tobago",
   "metadata": {},
   "source": [
    "###  Get data from NY times"
   ]
  },
  {
   "cell_type": "code",
   "execution_count": 126,
   "id": "lasting-programmer",
   "metadata": {},
   "outputs": [],
   "source": [
    "def get_anyt_article(url):\n",
    "    selector = get_selector(url)\n",
    "    rows = selector.xpath(\"//section[@name='articleBody']/div/div/p\")\n",
    "    content = ' '.join([row.get() for row in rows])\n",
    "    return content\n",
    "\n",
    "def get_nyt_articles(url):\n",
    "    selector = get_selector(url)\n",
    "    articles = []\n",
    "    rows = selector.xpath(\"//div[@class='css-13mho3u']//li[@class='css-ye6x8s']\")\n",
    "    for row in rows:\n",
    "        title = row.xpath(\"div/div/a/h2/text()\").get()\n",
    "        desc = row.xpath(\"div/div/a/p/text()\").get()\n",
    "        \n",
    "        link = row.xpath(\"div/div/a/@href\").get()\n",
    "        content = get_anyt_article(\"https://www.nytimes.com\"+link)     \n",
    "\n",
    "        if content is not None:\n",
    "            articles.append([title, content])    \n",
    "    return pd.DataFrame(articles, columns=[\"title\",\"content\"])        "
   ]
  },
  {
   "cell_type": "code",
   "execution_count": 127,
   "id": "industrial-dutch",
   "metadata": {},
   "outputs": [
    {
     "data": {
      "text/plain": [
       "(10, 2)"
      ]
     },
     "execution_count": 127,
     "metadata": {},
     "output_type": "execute_result"
    }
   ],
   "source": [
    "url = 'https://www.nytimes.com/section/opinion'\n",
    "articles = get_nyt_articles(url)\n",
    "articles.shape"
   ]
  },
  {
   "cell_type": "code",
   "execution_count": 128,
   "id": "disturbed-alliance",
   "metadata": {},
   "outputs": [],
   "source": [
    "articles.to_pickle(\"../data/left.pkl\")"
   ]
  },
  {
   "cell_type": "code",
   "execution_count": 129,
   "id": "innovative-canada",
   "metadata": {},
   "outputs": [
    {
     "data": {
      "text/html": [
       "<div>\n",
       "<style scoped>\n",
       "    .dataframe tbody tr th:only-of-type {\n",
       "        vertical-align: middle;\n",
       "    }\n",
       "\n",
       "    .dataframe tbody tr th {\n",
       "        vertical-align: top;\n",
       "    }\n",
       "\n",
       "    .dataframe thead th {\n",
       "        text-align: right;\n",
       "    }\n",
       "</style>\n",
       "<table border=\"1\" class=\"dataframe\">\n",
       "  <thead>\n",
       "    <tr style=\"text-align: right;\">\n",
       "      <th></th>\n",
       "      <th>title</th>\n",
       "      <th>content</th>\n",
       "    </tr>\n",
       "  </thead>\n",
       "  <tbody>\n",
       "    <tr>\n",
       "      <th>0</th>\n",
       "      <td>Here’s … Matt Gaetz</td>\n",
       "      <td>&lt;p class=\"css-axufdj evys1bk0\"&gt;Hey, we’ve got ...</td>\n",
       "    </tr>\n",
       "    <tr>\n",
       "      <th>1</th>\n",
       "      <td>‘Awful but Lawful’</td>\n",
       "      <td>&lt;p class=\"css-axufdj evys1bk0\"&gt;Along with many...</td>\n",
       "    </tr>\n",
       "    <tr>\n",
       "      <th>2</th>\n",
       "      <td>Here’s How to Handle the ‘Genocide Olympics’ i...</td>\n",
       "      <td>&lt;p class=\"css-axufdj evys1bk0\"&gt;Should the Unit...</td>\n",
       "    </tr>\n",
       "    <tr>\n",
       "      <th>3</th>\n",
       "      <td>What’s It Like to Hug Again?</td>\n",
       "      <td>&lt;p class=\"css-axufdj evys1bk0\"&gt;I ache for my m...</td>\n",
       "    </tr>\n",
       "    <tr>\n",
       "      <th>4</th>\n",
       "      <td>After Working at Google, I’ll Never Let Myself...</td>\n",
       "      <td>&lt;p class=\"css-axufdj evys1bk0\"&gt;I used to be a ...</td>\n",
       "    </tr>\n",
       "    <tr>\n",
       "      <th>5</th>\n",
       "      <td>Jewish Prayer Books: Old, New and Relevant</td>\n",
       "      <td>&lt;p class=\"css-axufdj evys1bk0\"&gt;&lt;strong class=\"...</td>\n",
       "    </tr>\n",
       "    <tr>\n",
       "      <th>6</th>\n",
       "      <td>Why Immigrants Risk Their Lives Coming to the ...</td>\n",
       "      <td>&lt;p class=\"css-axufdj evys1bk0\"&gt;&lt;strong class=\"...</td>\n",
       "    </tr>\n",
       "    <tr>\n",
       "      <th>7</th>\n",
       "      <td>Biden Can Go Bigger and Not ‘Pay for It’ the O...</td>\n",
       "      <td>&lt;p class=\"css-axufdj evys1bk0\"&gt;Last week, Pres...</td>\n",
       "    </tr>\n",
       "    <tr>\n",
       "      <th>8</th>\n",
       "      <td>Let’s Cut Our Ridiculous Defense Budget</td>\n",
       "      <td>&lt;p class=\"css-axufdj evys1bk0\"&gt;President Biden...</td>\n",
       "    </tr>\n",
       "    <tr>\n",
       "      <th>9</th>\n",
       "      <td>The Fear That Is Shaping American Politics</td>\n",
       "      <td>&lt;p class=\"css-axufdj evys1bk0\"&gt;Why is the Repu...</td>\n",
       "    </tr>\n",
       "  </tbody>\n",
       "</table>\n",
       "</div>"
      ],
      "text/plain": [
       "                                               title  \\\n",
       "0                                Here’s … Matt Gaetz   \n",
       "1                                 ‘Awful but Lawful’   \n",
       "2  Here’s How to Handle the ‘Genocide Olympics’ i...   \n",
       "3                       What’s It Like to Hug Again?   \n",
       "4  After Working at Google, I’ll Never Let Myself...   \n",
       "5         Jewish Prayer Books: Old, New and Relevant   \n",
       "6  Why Immigrants Risk Their Lives Coming to the ...   \n",
       "7  Biden Can Go Bigger and Not ‘Pay for It’ the O...   \n",
       "8            Let’s Cut Our Ridiculous Defense Budget   \n",
       "9         The Fear That Is Shaping American Politics   \n",
       "\n",
       "                                             content  \n",
       "0  <p class=\"css-axufdj evys1bk0\">Hey, we’ve got ...  \n",
       "1  <p class=\"css-axufdj evys1bk0\">Along with many...  \n",
       "2  <p class=\"css-axufdj evys1bk0\">Should the Unit...  \n",
       "3  <p class=\"css-axufdj evys1bk0\">I ache for my m...  \n",
       "4  <p class=\"css-axufdj evys1bk0\">I used to be a ...  \n",
       "5  <p class=\"css-axufdj evys1bk0\"><strong class=\"...  \n",
       "6  <p class=\"css-axufdj evys1bk0\"><strong class=\"...  \n",
       "7  <p class=\"css-axufdj evys1bk0\">Last week, Pres...  \n",
       "8  <p class=\"css-axufdj evys1bk0\">President Biden...  \n",
       "9  <p class=\"css-axufdj evys1bk0\">Why is the Repu...  "
      ]
     },
     "execution_count": 129,
     "metadata": {},
     "output_type": "execute_result"
    }
   ],
   "source": [
    "articles"
   ]
  },
  {
   "cell_type": "code",
   "execution_count": null,
   "id": "universal-boulder",
   "metadata": {},
   "outputs": [],
   "source": []
  }
 ],
 "metadata": {
  "kernelspec": {
   "display_name": "Python 3",
   "language": "python",
   "name": "python3"
  },
  "language_info": {
   "codemirror_mode": {
    "name": "ipython",
    "version": 3
   },
   "file_extension": ".py",
   "mimetype": "text/x-python",
   "name": "python",
   "nbconvert_exporter": "python",
   "pygments_lexer": "ipython3",
   "version": "3.7.10"
  }
 },
 "nbformat": 4,
 "nbformat_minor": 5
}
