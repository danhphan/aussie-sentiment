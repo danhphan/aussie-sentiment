{
 "cells": [
  {
   "cell_type": "markdown",
   "id": "coordinated-guinea",
   "metadata": {},
   "source": [
    "## Transformer Architecture"
   ]
  },
  {
   "cell_type": "code",
   "execution_count": 8,
   "id": "assured-appointment",
   "metadata": {},
   "outputs": [],
   "source": [
    "import pandas as pd\n",
    "import spacy\n",
    "import torch\n",
    "from sklearn import svm"
   ]
  },
  {
   "cell_type": "code",
   "execution_count": 9,
   "id": "loaded-thanks",
   "metadata": {
    "scrolled": true
   },
   "outputs": [
    {
     "data": {
      "text/plain": [
       "(29, 3)"
      ]
     },
     "execution_count": 9,
     "metadata": {},
     "output_type": "execute_result"
    }
   ],
   "source": [
    "# Read data\n",
    "left = pd.read_pickle(\"../data/left.pkl\")\n",
    "right = pd.read_pickle(\"../data/right.pkl\")\n",
    "right['wing'] = 'right'\n",
    "left['wing'] = 'left'\n",
    "data = pd.concat([right, left], ignore_index=True)\n",
    "data.shape"
   ]
  },
  {
   "cell_type": "code",
   "execution_count": 16,
   "id": "meaningful-norwegian",
   "metadata": {},
   "outputs": [
    {
     "data": {
      "text/plain": [
       "right    19\n",
       "left     10\n",
       "Name: wing, dtype: int64"
      ]
     },
     "execution_count": 16,
     "metadata": {},
     "output_type": "execute_result"
    }
   ],
   "source": [
    "data.wing.value_counts()"
   ]
  },
  {
   "cell_type": "code",
   "execution_count": 10,
   "id": "corrected-straight",
   "metadata": {},
   "outputs": [],
   "source": [
    "train_x = data.content.values\n",
    "train_y = data.wing.values"
   ]
  },
  {
   "cell_type": "code",
   "execution_count": 12,
   "id": "postal-writing",
   "metadata": {},
   "outputs": [
    {
     "data": {
      "text/plain": [
       "SVC(kernel='linear')"
      ]
     },
     "execution_count": 12,
     "metadata": {},
     "output_type": "execute_result"
    }
   ],
   "source": [
    "# Train an SVM model\n",
    "nlp = spacy.load(\"en_core_web_sm\")\n",
    "\n",
    "docs = [nlp(text) for text in train_x]\n",
    "train_x_vecs = [doc.vector for doc in docs]\n",
    "clf_svm = svm.SVC(kernel='linear')\n",
    "clf_svm.fit(train_x_vecs, train_y)"
   ]
  },
  {
   "cell_type": "code",
   "execution_count": 17,
   "id": "spare-canvas",
   "metadata": {},
   "outputs": [
    {
     "data": {
      "text/plain": [
       "array(['right', 'right', 'right', 'right', 'right', 'right', 'right',\n",
       "       'right', 'right', 'right', 'right', 'right', 'right', 'right',\n",
       "       'right', 'right', 'right', 'right', 'right', 'left', 'left',\n",
       "       'left', 'left', 'right', 'right', 'right', 'left', 'left', 'left'],\n",
       "      dtype=object)"
      ]
     },
     "execution_count": 17,
     "metadata": {},
     "output_type": "execute_result"
    }
   ],
   "source": [
    "test_x = train_x\n",
    "test_docs = [nlp(text) for text in test_x]\n",
    "test_x_word_vectors =  [x.vector for x in test_docs]\n",
    "\n",
    "clf_svm.predict(test_x_word_vectors)"
   ]
  },
  {
   "cell_type": "code",
   "execution_count": null,
   "id": "strategic-unemployment",
   "metadata": {},
   "outputs": [],
   "source": []
  }
 ],
 "metadata": {
  "kernelspec": {
   "display_name": "Python 3",
   "language": "python",
   "name": "python3"
  },
  "language_info": {
   "codemirror_mode": {
    "name": "ipython",
    "version": 3
   },
   "file_extension": ".py",
   "mimetype": "text/x-python",
   "name": "python",
   "nbconvert_exporter": "python",
   "pygments_lexer": "ipython3",
   "version": "3.7.10"
  }
 },
 "nbformat": 4,
 "nbformat_minor": 5
}
