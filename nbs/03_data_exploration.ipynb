{
 "cells": [
  {
   "cell_type": "markdown",
   "id": "generous-shuttle",
   "metadata": {},
   "source": [
    "### Exploratory Data Analysis"
   ]
  },
  {
   "cell_type": "markdown",
   "id": "temporal-theory",
   "metadata": {},
   "source": [
    "#### Most common words"
   ]
  },
  {
   "cell_type": "code",
   "execution_count": 8,
   "id": "republican-theater",
   "metadata": {},
   "outputs": [],
   "source": [
    "import pandas as pd"
   ]
  },
  {
   "cell_type": "code",
   "execution_count": 10,
   "id": "mexican-egypt",
   "metadata": {},
   "outputs": [
    {
     "data": {
      "text/html": [
       "<div>\n",
       "<style scoped>\n",
       "    .dataframe tbody tr th:only-of-type {\n",
       "        vertical-align: middle;\n",
       "    }\n",
       "\n",
       "    .dataframe tbody tr th {\n",
       "        vertical-align: top;\n",
       "    }\n",
       "\n",
       "    .dataframe thead th {\n",
       "        text-align: right;\n",
       "    }\n",
       "</style>\n",
       "<table border=\"1\" class=\"dataframe\">\n",
       "  <thead>\n",
       "    <tr style=\"text-align: right;\">\n",
       "      <th></th>\n",
       "      <th>left</th>\n",
       "      <th>right</th>\n",
       "    </tr>\n",
       "  </thead>\n",
       "  <tbody>\n",
       "    <tr>\n",
       "      <th>abest</th>\n",
       "      <td>0</td>\n",
       "      <td>1</td>\n",
       "    </tr>\n",
       "    <tr>\n",
       "      <th>acosta</th>\n",
       "      <td>0</td>\n",
       "      <td>1</td>\n",
       "    </tr>\n",
       "    <tr>\n",
       "      <th>acting</th>\n",
       "      <td>0</td>\n",
       "      <td>2</td>\n",
       "    </tr>\n",
       "    <tr>\n",
       "      <th>administration</th>\n",
       "      <td>0</td>\n",
       "      <td>3</td>\n",
       "    </tr>\n",
       "    <tr>\n",
       "      <th>affects</th>\n",
       "      <td>1</td>\n",
       "      <td>0</td>\n",
       "    </tr>\n",
       "  </tbody>\n",
       "</table>\n",
       "</div>"
      ],
      "text/plain": [
       "                left  right\n",
       "abest              0      1\n",
       "acosta             0      1\n",
       "acting             0      2\n",
       "administration     0      3\n",
       "affects            1      0"
      ]
     },
     "execution_count": 10,
     "metadata": {},
     "output_type": "execute_result"
    }
   ],
   "source": [
    "data_dtm = pd.read_pickle(\"../data/docterm_matrix.pkl\")\n",
    "data_dtm = data_dtm.transpose()\n",
    "data_dtm.head()"
   ]
  },
  {
   "cell_type": "code",
   "execution_count": 11,
   "id": "enormous-teach",
   "metadata": {},
   "outputs": [
    {
     "data": {
      "text/plain": [
       "{'left': [('biden', 2),\n",
       "  ('new', 2),\n",
       "  ('joe', 2),\n",
       "  ('gives', 1),\n",
       "  ('revenue', 1),\n",
       "  ('employers', 1),\n",
       "  ('market', 1),\n",
       "  ('tax', 1),\n",
       "  ('manchin', 1),\n",
       "  ('pentagon', 1),\n",
       "  ('lured', 1),\n",
       "  ('paradigm', 1),\n",
       "  ('books', 1),\n",
       "  ('loved', 1),\n",
       "  ('times', 1),\n",
       "  ('birthrate', 1),\n",
       "  ('limiting', 1),\n",
       "  ('scope', 1),\n",
       "  ('physical', 1),\n",
       "  ('traded', 1),\n",
       "  ('president', 1),\n",
       "  ('hard', 1),\n",
       "  ('leverage', 1),\n",
       "  ('friend', 1),\n",
       "  ('contact', 1),\n",
       "  ('consequence', 1),\n",
       "  ('extrajudicial', 1),\n",
       "  ('share', 1),\n",
       "  ('family', 1),\n",
       "  ('fanboy', 1)],\n",
       " 'right': [('carlson', 7),\n",
       "  ('tucker', 6),\n",
       "  ('biden', 6),\n",
       "  ('tonight', 4),\n",
       "  ('news', 4),\n",
       "  ('reacts', 4),\n",
       "  ('ingraham', 4),\n",
       "  ('host', 4),\n",
       "  ('discuss', 4),\n",
       "  ('angle', 4),\n",
       "  ('fox', 4),\n",
       "  ('border', 3),\n",
       "  ('hannity', 3),\n",
       "  ('new', 3),\n",
       "  ('united', 3),\n",
       "  ('administration', 3),\n",
       "  ('year', 3),\n",
       "  ('director', 2),\n",
       "  ('democrats', 2),\n",
       "  ('state', 2),\n",
       "  ('states', 2),\n",
       "  ('suffering', 2),\n",
       "  ('rep', 2),\n",
       "  ('primetime', 2),\n",
       "  ('possibility', 2),\n",
       "  ('law', 2),\n",
       "  ('policy', 2),\n",
       "  ('georgia', 2),\n",
       "  ('people', 2),\n",
       "  ('gov', 2)]}"
      ]
     },
     "execution_count": 11,
     "metadata": {},
     "output_type": "execute_result"
    }
   ],
   "source": [
    "# Find top 30 words by each wing\n",
    "top_dict = {}\n",
    "for c in data_dtm.columns:\n",
    "    top = data_dtm[c].sort_values(ascending=False).head(30)\n",
    "    top_dict[c] = list(zip(top.index, top.values))\n",
    "\n",
    "top_dict"
   ]
  },
  {
   "cell_type": "code",
   "execution_count": 12,
   "id": "challenging-administration",
   "metadata": {},
   "outputs": [
    {
     "name": "stdout",
     "output_type": "stream",
     "text": [
      "left\n",
      "biden new joe gives revenue employers market tax manchin pentagon lured paradigm books loved\n",
      "right\n",
      "carlson tucker biden tonight news reacts ingraham host discuss angle fox border hannity new\n"
     ]
    }
   ],
   "source": [
    "# Top 15 words by each wing\n",
    "for w, top_words in top_dict.items():\n",
    "    print(w)\n",
    "    print(' '.join([word for word, count in top_words[0:14]]))"
   ]
  },
  {
   "cell_type": "markdown",
   "id": "applied-matthew",
   "metadata": {},
   "source": [
    "#### Word clouds"
   ]
  },
  {
   "cell_type": "code",
   "execution_count": null,
   "id": "bronze-distinction",
   "metadata": {},
   "outputs": [],
   "source": []
  }
 ],
 "metadata": {
  "kernelspec": {
   "display_name": "Python 3",
   "language": "python",
   "name": "python3"
  },
  "language_info": {
   "codemirror_mode": {
    "name": "ipython",
    "version": 3
   },
   "file_extension": ".py",
   "mimetype": "text/x-python",
   "name": "python",
   "nbconvert_exporter": "python",
   "pygments_lexer": "ipython3",
   "version": "3.7.10"
  }
 },
 "nbformat": 4,
 "nbformat_minor": 5
}
